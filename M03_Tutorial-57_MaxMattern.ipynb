{
 "cells": [
  {
   "cell_type": "code",
   "execution_count": 2,
   "id": "2e967c08",
   "metadata": {},
   "outputs": [
    {
     "data": {
      "text/plain": [
       "33.49333333333333"
      ]
     },
     "execution_count": 2,
     "metadata": {},
     "output_type": "execute_result"
    }
   ],
   "source": [
    "# Max Mattern\n",
    "# M03 Tutorial Functional vs OOP Programming-57\n",
    "# SDEV220 Fall 2022\n",
    "# 11/14/22\n",
    "\n",
    "# 1: Write a function that computes the volume of a sphere given its radius.\n",
    "\n",
    "def vol(rad):\n",
    "    return (4/3)*3.14*(rad**3)\n",
    "vol(2)"
   ]
  },
  {
   "cell_type": "code",
   "execution_count": 7,
   "id": "b4eb0290",
   "metadata": {},
   "outputs": [
    {
     "name": "stdout",
     "output_type": "stream",
     "text": [
      "5 is in range of 2 and 7\n"
     ]
    }
   ],
   "source": [
    "# 2: Write a function that checks whether a number is in a given range (inclusive of high and low).\n",
    "\n",
    "def ran_check(num,low,high):\n",
    "    if num in range(low,high+1):\n",
    "        print(f'{num} is in range of {low} and {high}')\n",
    "    else:\n",
    "        print('not in range')\n",
    "\n",
    "ran_check(5,2,7)"
   ]
  },
  {
   "cell_type": "code",
   "execution_count": 9,
   "id": "3a49b451",
   "metadata": {},
   "outputs": [
    {
     "name": "stdout",
     "output_type": "stream",
     "text": [
      "Origional String: Hello Mr. Rogers, how are you this fine Tuesday?\n",
      "Lowercase count: 33\n",
      "Uppercase count: 4\n"
     ]
    }
   ],
   "source": [
    "# 3: Write a function that accepts a string and calculates the number of upper case and lower case letters.\n",
    "\n",
    "def up_low(s):\n",
    "    d = {'upper':0,'lower':0}\n",
    "    \n",
    "    for char in s:\n",
    "         if char.isupper():\n",
    "             d['upper'] += 1\n",
    "         elif char.islower():\n",
    "             d['lower'] += 1\n",
    "         else:\n",
    "             pass\n",
    "    \n",
    "    print(f\"Origional String: {s}\")\n",
    "    print(f'Lowercase count: {d[\"lower\"]}')\n",
    "    print(f'Uppercase count: {d[\"upper\"]}')\n",
    "         \n",
    "s = 'Hello Mr. Rogers, how are you this fine Tuesday?'\n",
    "up_low(s)"
   ]
  },
  {
   "cell_type": "code",
   "execution_count": 13,
   "id": "ccd14b6f",
   "metadata": {},
   "outputs": [
    {
     "data": {
      "text/plain": [
       "[1, 2, 3, 4, 5]"
      ]
     },
     "execution_count": 13,
     "metadata": {},
     "output_type": "execute_result"
    }
   ],
   "source": [
    "# 4: Write a function that takes a list and returns a new list with unique elements of the first list.\n",
    "\n",
    "def unique_list(lst):\n",
    "    return list(set(lst))\n",
    "\n",
    "unique_list([1,1,1,1,2,2,3,3,3,3,4,5])"
   ]
  },
  {
   "cell_type": "code",
   "execution_count": 15,
   "id": "59e1d68f",
   "metadata": {},
   "outputs": [
    {
     "data": {
      "text/plain": [
       "-24"
      ]
     },
     "execution_count": 15,
     "metadata": {},
     "output_type": "execute_result"
    }
   ],
   "source": [
    "# 5: Write a function to multiply all the numbers in a list.\n",
    "\n",
    "def multiply(numbers):\n",
    "    total = 1\n",
    "    for num in numbers:\n",
    "        total = total*num\n",
    "    return total\n",
    "\n",
    "multiply([1,2,3,-4])"
   ]
  },
  {
   "cell_type": "code",
   "execution_count": 17,
   "id": "a667114d",
   "metadata": {},
   "outputs": [
    {
     "data": {
      "text/plain": [
       "True"
      ]
     },
     "execution_count": 17,
     "metadata": {},
     "output_type": "execute_result"
    }
   ],
   "source": [
    "# 6: Write a function that checks whether a word or phrase is palindrome or not.\n",
    "\n",
    "def palindrome(s):\n",
    "    # emove spaces from string\n",
    "    s = s.replace(' ','')\n",
    "    # Check if string is == revered version of the string\n",
    "    return s == s[::-1]\n",
    "\n",
    "palindrome('nurses run')\n"
   ]
  },
  {
   "cell_type": "code",
   "execution_count": 20,
   "id": "65e76eff",
   "metadata": {},
   "outputs": [
    {
     "data": {
      "text/plain": [
       "True"
      ]
     },
     "execution_count": 20,
     "metadata": {},
     "output_type": "execute_result"
    }
   ],
   "source": [
    "# 7: Write a function to check whether a string is panagram or not. (Assume the string\n",
    "#    passed in does not have any punctuation)\n",
    "\n",
    "import string\n",
    "\n",
    "def ispangram(str1, alphabet=string.ascii_lowercase):\n",
    "    \n",
    "    # Create a set of the alphabet\n",
    "    alphaset = set(alphabet)\n",
    "        \n",
    "    # Remove any spaces from the input string\n",
    "    str1 = str1.replace(' ','')\n",
    "    \n",
    "    # Convert into all lowercase\n",
    "    str1 = str1.lower()\n",
    "    \n",
    "    # Grab all unique letters from the string set()\n",
    "    str1 = set(str1)\n",
    "    \n",
    "    # alphabet set == string set input\n",
    "    return str1 == alphaset\n",
    "\n",
    "ispangram(\"The quick brown fox jumps over the lazy dog\")\n",
    "    "
   ]
  },
  {
   "cell_type": "code",
   "execution_count": null,
   "id": "19e17e07",
   "metadata": {},
   "outputs": [],
   "source": []
  },
  {
   "cell_type": "code",
   "execution_count": null,
   "id": "0f5b26f3",
   "metadata": {},
   "outputs": [],
   "source": []
  }
 ],
 "metadata": {
  "kernelspec": {
   "display_name": "Python 3 (ipykernel)",
   "language": "python",
   "name": "python3"
  },
  "language_info": {
   "codemirror_mode": {
    "name": "ipython",
    "version": 3
   },
   "file_extension": ".py",
   "mimetype": "text/x-python",
   "name": "python",
   "nbconvert_exporter": "python",
   "pygments_lexer": "ipython3",
   "version": "3.9.13"
  }
 },
 "nbformat": 4,
 "nbformat_minor": 5
}
